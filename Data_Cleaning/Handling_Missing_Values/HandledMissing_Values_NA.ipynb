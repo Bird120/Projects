{
  "nbformat": 4,
  "nbformat_minor": 0,
  "metadata": {
    "colab": {
      "provenance": []
    },
    "kernelspec": {
      "name": "python3",
      "display_name": "Python 3"
    },
    "language_info": {
      "name": "python"
    }
  },
  "cells": [
    {
      "cell_type": "code",
      "execution_count": 20,
      "metadata": {
        "id": "ibEgmoV2LQIq"
      },
      "outputs": [],
      "source": [
        "import pandas as pd\n",
        "import numpy as np"
      ]
    },
    {
      "cell_type": "markdown",
      "source": [
        "### *Read the csv and put on a Dataframe*"
      ],
      "metadata": {
        "id": "XKKp80cROIKe"
      }
    },
    {
      "cell_type": "code",
      "source": [
        "df = pd.read_csv(\"/content/property data.csv\")"
      ],
      "metadata": {
        "id": "O6MtOglrLjyb"
      },
      "execution_count": 21,
      "outputs": []
    },
    {
      "cell_type": "markdown",
      "source": [
        "### *Show the first 7 rows of the dataframe to gain a better understanding of the data.*"
      ],
      "metadata": {
        "id": "50EMdL0vOH0s"
      }
    },
    {
      "cell_type": "code",
      "source": [
        "print(df.head(7))"
      ],
      "metadata": {
        "colab": {
          "base_uri": "https://localhost:8080/"
        },
        "id": "fU6CYndCN-vq",
        "outputId": "22d9bd9e-10f3-495c-f602-62d6c0296c20"
      },
      "execution_count": 22,
      "outputs": [
        {
          "output_type": "stream",
          "name": "stdout",
          "text": [
            "           PID  ST_NUM     ST_NAME OWN_OCCUPIED NUM_BEDROOMS NUM_BATH SQ_FT\n",
            "0  100001000.0   104.0      PUTNAM            Y            3        1  1000\n",
            "1  100002000.0   197.0   LEXINGTON            N            3      1.5    --\n",
            "2  100003000.0     NaN   LEXINGTON            N          NaN        1   850\n",
            "3  100004000.0   201.0    BERKELEY           12            1      NaN   700\n",
            "4          NaN   203.0    BERKELEY            Y            3        2  1600\n",
            "5  100006000.0   207.0    BERKELEY            Y          NaN        1   800\n",
            "6  100007000.0     NaN  WASHINGTON          NaN            2   HURLEY   950\n"
          ]
        }
      ]
    },
    {
      "cell_type": "markdown",
      "source": [
        "a simple explaination of the data:\n",
        "\n",
        "*   ST_NUM: Street Number\n",
        "*   St_NAME: Street Name\n",
        "*   OWN_OCCUPIED: Y stands for\n",
        "    ('Yes') and N for ('No')\n",
        "*   NUM_BEDROOMS: integers\n",
        "*   NUM_BATH:Float\n",
        "*   SQ_FT: Integers"
      ],
      "metadata": {
        "id": "nrfGA5wtRDG1"
      }
    },
    {
      "cell_type": "code",
      "source": [
        "print(df[['ST_NUM','NUM_BATH']])"
      ],
      "metadata": {
        "colab": {
          "base_uri": "https://localhost:8080/"
        },
        "id": "GhA5nIHqRDQY",
        "outputId": "cad5278e-5018-4eaf-e201-5e612d994cec"
      },
      "execution_count": 23,
      "outputs": [
        {
          "output_type": "stream",
          "name": "stdout",
          "text": [
            "   ST_NUM NUM_BATH\n",
            "0   104.0        1\n",
            "1   197.0      1.5\n",
            "2     NaN        1\n",
            "3   201.0      NaN\n",
            "4   203.0        2\n",
            "5   207.0        1\n",
            "6     NaN   HURLEY\n",
            "7   213.0        1\n",
            "8   215.0        2\n"
          ]
        }
      ]
    },
    {
      "cell_type": "markdown",
      "source": [
        "test the pandas's function isnull()"
      ],
      "metadata": {
        "id": "L0XdRyX4V8ic"
      }
    },
    {
      "cell_type": "code",
      "source": [
        "print(df[['ST_NUM','NUM_BATH']].isnull())"
      ],
      "metadata": {
        "colab": {
          "base_uri": "https://localhost:8080/"
        },
        "id": "w3Vc1yaaV8Yh",
        "outputId": "819fa0cb-60fa-4325-8871-17e41c308b1b"
      },
      "execution_count": 24,
      "outputs": [
        {
          "output_type": "stream",
          "name": "stdout",
          "text": [
            "   ST_NUM  NUM_BATH\n",
            "0   False     False\n",
            "1   False     False\n",
            "2    True     False\n",
            "3   False      True\n",
            "4   False     False\n",
            "5   False     False\n",
            "6    True     False\n",
            "7   False     False\n",
            "8   False     False\n"
          ]
        }
      ]
    },
    {
      "cell_type": "markdown",
      "source": [
        "The isnull() function only interprecting someg values as missing values: NA, na, n/a, NaN, None, NaT. empty..."
      ],
      "metadata": {
        "id": "QnukQb2WW1mj"
      }
    },
    {
      "cell_type": "markdown",
      "source": [
        "*We can create a list to identify the missing values left on the sidelines by using the *'na_values'* optionin the *'read_csv'* function of Pandas 🐼. This allows us to easily detect and handle missing values during the data import process.*"
      ],
      "metadata": {
        "id": "MNJvtOzXXqiF"
      }
    },
    {
      "cell_type": "code",
      "source": [
        "Missing_Values = [\"n/a\",\"a\", \"--\"]\n",
        "df = pd.read_csv(\"property data.csv\", na_values = Missing_Values)"
      ],
      "metadata": {
        "id": "NgHq6HCPZdzd"
      },
      "execution_count": 25,
      "outputs": []
    },
    {
      "cell_type": "code",
      "source": [
        "print(df.head(7))"
      ],
      "metadata": {
        "colab": {
          "base_uri": "https://localhost:8080/"
        },
        "id": "QhVnNXTtZfz9",
        "outputId": "e660f27a-456c-4502-c353-6fe108c19fe9"
      },
      "execution_count": 26,
      "outputs": [
        {
          "output_type": "stream",
          "name": "stdout",
          "text": [
            "           PID  ST_NUM     ST_NAME OWN_OCCUPIED NUM_BEDROOMS NUM_BATH   SQ_FT\n",
            "0  100001000.0   104.0      PUTNAM            Y            3        1  1000.0\n",
            "1  100002000.0   197.0   LEXINGTON            N            3      1.5     NaN\n",
            "2  100003000.0     NaN   LEXINGTON            N          NaN        1   850.0\n",
            "3  100004000.0   201.0    BERKELEY           12            1      NaN   700.0\n",
            "4          NaN   203.0    BERKELEY            Y            3        2  1600.0\n",
            "5  100006000.0   207.0    BERKELEY            Y          NaN        1   800.0\n",
            "6  100007000.0     NaN  WASHINGTON          NaN            2   HURLEY   950.0\n"
          ]
        }
      ]
    },
    {
      "cell_type": "markdown",
      "source": [
        "In the row 'OWN_OCCUPIED' the missing values, not integers: 12"
      ],
      "metadata": {
        "id": "_Gdg2oIkd9Lp"
      }
    },
    {
      "cell_type": "code",
      "source": [
        "for index, row in df.iterrows():\n",
        "    if row['OWN_OCCUPIED'] not in ['Y', 'N']:\n",
        "        df.loc[index, 'OWN_OCCUPIED'] = np.nan\n"
      ],
      "metadata": {
        "id": "gR9UtB_JkT1H"
      },
      "execution_count": 27,
      "outputs": []
    },
    {
      "cell_type": "markdown",
      "source": [
        "The iterrows() function in Pandas allows parsing of each cell in the DataFrame.\n",
        "\n",
        "Using the loc function in Pandas, we can replace any unexpected elements (not 'Y' or 'N') with NaN using the np.nan function from NumPy."
      ],
      "metadata": {
        "id": "7KCZHEZVICHF"
      }
    },
    {
      "cell_type": "code",
      "source": [
        "print(df['OWN_OCCUPIED'])"
      ],
      "metadata": {
        "colab": {
          "base_uri": "https://localhost:8080/"
        },
        "id": "InmlFFYjfHw6",
        "outputId": "020851d0-f89b-49eb-f376-7dfcf50922ce"
      },
      "execution_count": 28,
      "outputs": [
        {
          "output_type": "stream",
          "name": "stdout",
          "text": [
            "0      Y\n",
            "1      N\n",
            "2      N\n",
            "3    NaN\n",
            "4      Y\n",
            "5      Y\n",
            "6    NaN\n",
            "7      Y\n",
            "8      Y\n",
            "Name: OWN_OCCUPIED, dtype: object\n"
          ]
        }
      ]
    },
    {
      "cell_type": "markdown",
      "source": [
        "We can observe that the value '12' in index 3  and row 'OWN_OCCUPIED' became\n",
        "'NaN'.\n",
        "\n",
        "Similarly, we can notice that the **'NUM_BATH'** column has the same issue, as\n",
        "\n",
        "only floating-point numbers are accepted."
      ],
      "metadata": {
        "id": "9exu2jWroEJc"
      }
    },
    {
      "cell_type": "code",
      "source": [
        "index = 0\n",
        "for row in df['NUM_BATH']:\n",
        "  try:\n",
        "    float(row)\n",
        "  except ValueError:\n",
        "    df.loc[index, 'NUM_BATH'] = np.nan\n",
        "  index += 1"
      ],
      "metadata": {
        "id": "fTc5Ndu5pVw8"
      },
      "execution_count": 29,
      "outputs": []
    },
    {
      "cell_type": "markdown",
      "source": [
        "I have decided to use exception handling (try and except ValueError) to handle errors. As a result, all missing values in the DataFrame are now properly handled.\n",
        "\n",
        "\n"
      ],
      "metadata": {
        "id": "0ZjeuXhqpW1u"
      }
    },
    {
      "cell_type": "code",
      "source": [
        "print(df.head(8))"
      ],
      "metadata": {
        "colab": {
          "base_uri": "https://localhost:8080/"
        },
        "id": "wVE8t2orqPWe",
        "outputId": "165a26c6-5f44-4693-d737-6dfd4cb5346d"
      },
      "execution_count": 30,
      "outputs": [
        {
          "output_type": "stream",
          "name": "stdout",
          "text": [
            "           PID  ST_NUM     ST_NAME OWN_OCCUPIED NUM_BEDROOMS NUM_BATH   SQ_FT\n",
            "0  100001000.0   104.0      PUTNAM            Y            3        1  1000.0\n",
            "1  100002000.0   197.0   LEXINGTON            N            3      1.5     NaN\n",
            "2  100003000.0     NaN   LEXINGTON            N          NaN        1   850.0\n",
            "3  100004000.0   201.0    BERKELEY          NaN            1      NaN   700.0\n",
            "4          NaN   203.0    BERKELEY            Y            3        2  1600.0\n",
            "5  100006000.0   207.0    BERKELEY            Y          NaN        1   800.0\n",
            "6  100007000.0     NaN  WASHINGTON          NaN            2      NaN   950.0\n",
            "7  100008000.0   213.0     TREMONT            Y            1        1     NaN\n"
          ]
        }
      ]
    }
  ]
}