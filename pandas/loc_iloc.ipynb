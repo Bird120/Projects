{
 "cells": [
  {
   "cell_type": "code",
   "execution_count": 1,
   "id": "87f8d944-cb7d-4314-bc6d-2778165dddaf",
   "metadata": {},
   "outputs": [],
   "source": [
    "import pandas as pd\n",
    "from pathlib import Path"
   ]
  },
  {
   "cell_type": "code",
   "execution_count": 2,
   "id": "fc43a269-e724-4b34-a621-044493b91a71",
   "metadata": {},
   "outputs": [],
   "source": [
    "# Specify custom missing values\n",
    "\n",
    "path_ = '/home/success/Downloads/Data_ML/data/numpy.csv'\n",
    "\n",
    "file = pd.read_csv(path_, sep=';', na_values=['NaN', 'Unknown'])"
   ]
  },
  {
   "cell_type": "code",
   "execution_count": 3,
   "id": "40d49047-4d18-46d3-bb36-a518801c289b",
   "metadata": {},
   "outputs": [
    {
     "name": "stdout",
     "output_type": "stream",
     "text": [
      "               City  Country  Zipcode Population in millions\n",
      "line_0        Paris      NaN      NaN                  2 161\n",
      "line_1       London      NaN      NaN                  8 982\n",
      "line_2       Nevada      NaN      NaN                  3 144\n",
      "line_3    Marseille      NaN      NaN              0.861 635\n",
      "line_4     New York      NaN      NaN                  8 468\n",
      "line_5      Chicago      NaN      NaN                  2 697\n",
      "line_6  Los angeles      NaN      NaN                  3 849\n"
     ]
    }
   ],
   "source": [
    "new_index = [f'line_{i}' for i in file.index]\n",
    "\n",
    "file.index = new_index\n",
    "# Replace the existing index with the new one\n",
    "\n",
    "# Display the DataFrame with the updated index\n",
    "print(file)"
   ]
  },
  {
   "cell_type": "code",
   "execution_count": 4,
   "id": "96cc4efd-4bb0-4fab-856e-245ca93efc61",
   "metadata": {},
   "outputs": [
    {
     "data": {
      "text/html": [
       "<div>\n",
       "<style scoped>\n",
       "    .dataframe tbody tr th:only-of-type {\n",
       "        vertical-align: middle;\n",
       "    }\n",
       "\n",
       "    .dataframe tbody tr th {\n",
       "        vertical-align: top;\n",
       "    }\n",
       "\n",
       "    .dataframe thead th {\n",
       "        text-align: right;\n",
       "    }\n",
       "</style>\n",
       "<table border=\"1\" class=\"dataframe\">\n",
       "  <thead>\n",
       "    <tr style=\"text-align: right;\">\n",
       "      <th></th>\n",
       "      <th>City</th>\n",
       "      <th>Country</th>\n",
       "      <th>Zipcode</th>\n",
       "      <th>Population in millions</th>\n",
       "    </tr>\n",
       "  </thead>\n",
       "  <tbody>\n",
       "    <tr>\n",
       "      <th>line_0</th>\n",
       "      <td>Paris</td>\n",
       "      <td>NaN</td>\n",
       "      <td>NaN</td>\n",
       "      <td>2 161</td>\n",
       "    </tr>\n",
       "    <tr>\n",
       "      <th>line_1</th>\n",
       "      <td>London</td>\n",
       "      <td>NaN</td>\n",
       "      <td>NaN</td>\n",
       "      <td>8 982</td>\n",
       "    </tr>\n",
       "    <tr>\n",
       "      <th>line_2</th>\n",
       "      <td>Nevada</td>\n",
       "      <td>NaN</td>\n",
       "      <td>NaN</td>\n",
       "      <td>3 144</td>\n",
       "    </tr>\n",
       "    <tr>\n",
       "      <th>line_3</th>\n",
       "      <td>Marseille</td>\n",
       "      <td>NaN</td>\n",
       "      <td>NaN</td>\n",
       "      <td>0.861 635</td>\n",
       "    </tr>\n",
       "    <tr>\n",
       "      <th>line_4</th>\n",
       "      <td>New York</td>\n",
       "      <td>NaN</td>\n",
       "      <td>NaN</td>\n",
       "      <td>8 468</td>\n",
       "    </tr>\n",
       "    <tr>\n",
       "      <th>line_5</th>\n",
       "      <td>Chicago</td>\n",
       "      <td>NaN</td>\n",
       "      <td>NaN</td>\n",
       "      <td>2 697</td>\n",
       "    </tr>\n",
       "    <tr>\n",
       "      <th>line_6</th>\n",
       "      <td>Los angeles</td>\n",
       "      <td>NaN</td>\n",
       "      <td>NaN</td>\n",
       "      <td>3 849</td>\n",
       "    </tr>\n",
       "  </tbody>\n",
       "</table>\n",
       "</div>"
      ],
      "text/plain": [
       "               City  Country  Zipcode Population in millions\n",
       "line_0        Paris      NaN      NaN                  2 161\n",
       "line_1       London      NaN      NaN                  8 982\n",
       "line_2       Nevada      NaN      NaN                  3 144\n",
       "line_3    Marseille      NaN      NaN              0.861 635\n",
       "line_4     New York      NaN      NaN                  8 468\n",
       "line_5      Chicago      NaN      NaN                  2 697\n",
       "line_6  Los angeles      NaN      NaN                  3 849"
      ]
     },
     "execution_count": 4,
     "metadata": {},
     "output_type": "execute_result"
    }
   ],
   "source": [
    "file"
   ]
  },
  {
   "cell_type": "code",
   "execution_count": 5,
   "id": "fd652580-2665-4a2f-b88e-25d4b21a60ab",
   "metadata": {},
   "outputs": [
    {
     "data": {
      "text/html": [
       "<div>\n",
       "<style scoped>\n",
       "    .dataframe tbody tr th:only-of-type {\n",
       "        vertical-align: middle;\n",
       "    }\n",
       "\n",
       "    .dataframe tbody tr th {\n",
       "        vertical-align: top;\n",
       "    }\n",
       "\n",
       "    .dataframe thead th {\n",
       "        text-align: right;\n",
       "    }\n",
       "</style>\n",
       "<table border=\"1\" class=\"dataframe\">\n",
       "  <thead>\n",
       "    <tr style=\"text-align: right;\">\n",
       "      <th></th>\n",
       "      <th>City</th>\n",
       "      <th>Population in millions</th>\n",
       "    </tr>\n",
       "  </thead>\n",
       "  <tbody>\n",
       "    <tr>\n",
       "      <th>line_0</th>\n",
       "      <td>Paris</td>\n",
       "      <td>2 161</td>\n",
       "    </tr>\n",
       "    <tr>\n",
       "      <th>line_1</th>\n",
       "      <td>London</td>\n",
       "      <td>8 982</td>\n",
       "    </tr>\n",
       "    <tr>\n",
       "      <th>line_2</th>\n",
       "      <td>Nevada</td>\n",
       "      <td>3 144</td>\n",
       "    </tr>\n",
       "    <tr>\n",
       "      <th>line_3</th>\n",
       "      <td>Marseille</td>\n",
       "      <td>0.861 635</td>\n",
       "    </tr>\n",
       "    <tr>\n",
       "      <th>line_4</th>\n",
       "      <td>New York</td>\n",
       "      <td>8 468</td>\n",
       "    </tr>\n",
       "    <tr>\n",
       "      <th>line_5</th>\n",
       "      <td>Chicago</td>\n",
       "      <td>2 697</td>\n",
       "    </tr>\n",
       "    <tr>\n",
       "      <th>line_6</th>\n",
       "      <td>Los angeles</td>\n",
       "      <td>3 849</td>\n",
       "    </tr>\n",
       "  </tbody>\n",
       "</table>\n",
       "</div>"
      ],
      "text/plain": [
       "               City Population in millions\n",
       "line_0        Paris                  2 161\n",
       "line_1       London                  8 982\n",
       "line_2       Nevada                  3 144\n",
       "line_3    Marseille              0.861 635\n",
       "line_4     New York                  8 468\n",
       "line_5      Chicago                  2 697\n",
       "line_6  Los angeles                  3 849"
      ]
     },
     "execution_count": 5,
     "metadata": {},
     "output_type": "execute_result"
    }
   ],
   "source": [
    "file.loc['line_0':'line_6':1, ['City', 'Population in millions']]"
   ]
  },
  {
   "cell_type": "code",
   "execution_count": 6,
   "id": "b6ef7937-a3da-4964-8690-7816a1c88226",
   "metadata": {},
   "outputs": [
    {
     "data": {
      "text/html": [
       "<div>\n",
       "<style scoped>\n",
       "    .dataframe tbody tr th:only-of-type {\n",
       "        vertical-align: middle;\n",
       "    }\n",
       "\n",
       "    .dataframe tbody tr th {\n",
       "        vertical-align: top;\n",
       "    }\n",
       "\n",
       "    .dataframe thead th {\n",
       "        text-align: right;\n",
       "    }\n",
       "</style>\n",
       "<table border=\"1\" class=\"dataframe\">\n",
       "  <thead>\n",
       "    <tr style=\"text-align: right;\">\n",
       "      <th></th>\n",
       "      <th>City</th>\n",
       "      <th>Country</th>\n",
       "      <th>Zipcode</th>\n",
       "      <th>Population in millions</th>\n",
       "    </tr>\n",
       "  </thead>\n",
       "  <tbody>\n",
       "    <tr>\n",
       "      <th>line_1</th>\n",
       "      <td>London</td>\n",
       "      <td>NaN</td>\n",
       "      <td>NaN</td>\n",
       "      <td>8 982</td>\n",
       "    </tr>\n",
       "    <tr>\n",
       "      <th>line_2</th>\n",
       "      <td>Nevada</td>\n",
       "      <td>NaN</td>\n",
       "      <td>NaN</td>\n",
       "      <td>3 144</td>\n",
       "    </tr>\n",
       "    <tr>\n",
       "      <th>line_3</th>\n",
       "      <td>Marseille</td>\n",
       "      <td>NaN</td>\n",
       "      <td>NaN</td>\n",
       "      <td>0.861 635</td>\n",
       "    </tr>\n",
       "    <tr>\n",
       "      <th>line_4</th>\n",
       "      <td>New York</td>\n",
       "      <td>NaN</td>\n",
       "      <td>NaN</td>\n",
       "      <td>8 468</td>\n",
       "    </tr>\n",
       "    <tr>\n",
       "      <th>line_5</th>\n",
       "      <td>Chicago</td>\n",
       "      <td>NaN</td>\n",
       "      <td>NaN</td>\n",
       "      <td>2 697</td>\n",
       "    </tr>\n",
       "  </tbody>\n",
       "</table>\n",
       "</div>"
      ],
      "text/plain": [
       "             City  Country  Zipcode Population in millions\n",
       "line_1     London      NaN      NaN                  8 982\n",
       "line_2     Nevada      NaN      NaN                  3 144\n",
       "line_3  Marseille      NaN      NaN              0.861 635\n",
       "line_4   New York      NaN      NaN                  8 468\n",
       "line_5    Chicago      NaN      NaN                  2 697"
      ]
     },
     "execution_count": 6,
     "metadata": {},
     "output_type": "execute_result"
    }
   ],
   "source": [
    "file.iloc[1:6:1,:]"
   ]
  },
  {
   "cell_type": "code",
   "execution_count": null,
   "id": "f01603c2-4096-432e-b0e8-60c97a95ad1b",
   "metadata": {},
   "outputs": [],
   "source": []
  }
 ],
 "metadata": {
  "kernelspec": {
   "display_name": "Python 3 (ipykernel)",
   "language": "python",
   "name": "python3"
  },
  "language_info": {
   "codemirror_mode": {
    "name": "ipython",
    "version": 3
   },
   "file_extension": ".py",
   "mimetype": "text/x-python",
   "name": "python",
   "nbconvert_exporter": "python",
   "pygments_lexer": "ipython3",
   "version": "3.10.12"
  }
 },
 "nbformat": 4,
 "nbformat_minor": 5
}
