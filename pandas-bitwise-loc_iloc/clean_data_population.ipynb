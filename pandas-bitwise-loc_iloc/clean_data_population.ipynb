{
 "cells": [
  {
   "cell_type": "code",
   "execution_count": 1,
   "id": "b2360d1e-6029-4e71-8fe7-06d2dcc18943",
   "metadata": {},
   "outputs": [],
   "source": [
    "import pandas as pd\n",
    "import numpy as np\n",
    "from pathlib import Path\n",
    "import plotly.express as mp"
   ]
  },
  {
   "cell_type": "markdown",
   "id": "754e24ad-432b-4e8a-ba97-48ee171633a6",
   "metadata": {},
   "source": [
    "Change columns names with names option from read_csv function(Pandas library)"
   ]
  },
  {
   "cell_type": "code",
   "execution_count": 2,
   "id": "73c1ffd5-00a8-4061-9fda-7614a1fbc658",
   "metadata": {},
   "outputs": [],
   "source": [
    "p_ = Path('/home/success/Downloads/Data_ML/data/numpy.csv')\n",
    "population = pd.read_csv(p_, sep=';', names=['Villes', 'Pays', 'Code Postal', 'Population'])"
   ]
  },
  {
   "cell_type": "code",
   "execution_count": 3,
   "id": "52146f60-ac24-437d-874a-6951ca4412fb",
   "metadata": {},
   "outputs": [
    {
     "data": {
      "text/html": [
       "<div>\n",
       "<style scoped>\n",
       "    .dataframe tbody tr th:only-of-type {\n",
       "        vertical-align: middle;\n",
       "    }\n",
       "\n",
       "    .dataframe tbody tr th {\n",
       "        vertical-align: top;\n",
       "    }\n",
       "\n",
       "    .dataframe thead th {\n",
       "        text-align: right;\n",
       "    }\n",
       "</style>\n",
       "<table border=\"1\" class=\"dataframe\">\n",
       "  <thead>\n",
       "    <tr style=\"text-align: right;\">\n",
       "      <th></th>\n",
       "      <th>Villes</th>\n",
       "      <th>Pays</th>\n",
       "      <th>Code Postal</th>\n",
       "      <th>Population</th>\n",
       "    </tr>\n",
       "  </thead>\n",
       "  <tbody>\n",
       "    <tr>\n",
       "      <th>0</th>\n",
       "      <td>City</td>\n",
       "      <td>Country</td>\n",
       "      <td>Zipcode</td>\n",
       "      <td>Population in millions</td>\n",
       "    </tr>\n",
       "    <tr>\n",
       "      <th>1</th>\n",
       "      <td>Paris</td>\n",
       "      <td>NaN</td>\n",
       "      <td>NaN</td>\n",
       "      <td>2 161</td>\n",
       "    </tr>\n",
       "    <tr>\n",
       "      <th>2</th>\n",
       "      <td>London</td>\n",
       "      <td>NaN</td>\n",
       "      <td>NaN</td>\n",
       "      <td>8 982</td>\n",
       "    </tr>\n",
       "    <tr>\n",
       "      <th>3</th>\n",
       "      <td>Nevada</td>\n",
       "      <td>NaN</td>\n",
       "      <td>NaN</td>\n",
       "      <td>3 144</td>\n",
       "    </tr>\n",
       "    <tr>\n",
       "      <th>4</th>\n",
       "      <td>Marseille</td>\n",
       "      <td>NaN</td>\n",
       "      <td>NaN</td>\n",
       "      <td>0.861 635</td>\n",
       "    </tr>\n",
       "    <tr>\n",
       "      <th>5</th>\n",
       "      <td>New York</td>\n",
       "      <td>NaN</td>\n",
       "      <td>NaN</td>\n",
       "      <td>8 468</td>\n",
       "    </tr>\n",
       "    <tr>\n",
       "      <th>6</th>\n",
       "      <td>Chicago</td>\n",
       "      <td>NaN</td>\n",
       "      <td>NaN</td>\n",
       "      <td>2 697</td>\n",
       "    </tr>\n",
       "    <tr>\n",
       "      <th>7</th>\n",
       "      <td>Los angeles</td>\n",
       "      <td>NaN</td>\n",
       "      <td>NaN</td>\n",
       "      <td>3 849</td>\n",
       "    </tr>\n",
       "  </tbody>\n",
       "</table>\n",
       "</div>"
      ],
      "text/plain": [
       "        Villes     Pays Code Postal              Population\n",
       "0         City  Country     Zipcode  Population in millions\n",
       "1        Paris      NaN         NaN                   2 161\n",
       "2       London      NaN         NaN                   8 982\n",
       "3       Nevada      NaN         NaN                   3 144\n",
       "4    Marseille      NaN         NaN               0.861 635\n",
       "5     New York      NaN         NaN                   8 468\n",
       "6      Chicago      NaN         NaN                   2 697\n",
       "7  Los angeles      NaN         NaN                   3 849"
      ]
     },
     "execution_count": 3,
     "metadata": {},
     "output_type": "execute_result"
    }
   ],
   "source": [
    "population"
   ]
  },
  {
   "cell_type": "code",
   "execution_count": 4,
   "id": "19b4d9fd-9302-486a-8a0d-7353fce8734a",
   "metadata": {},
   "outputs": [],
   "source": [
    "population  = population.drop([0], axis=0)"
   ]
  },
  {
   "cell_type": "code",
   "execution_count": 5,
   "id": "53beff0b-0519-460a-a96b-516baa6a86b3",
   "metadata": {},
   "outputs": [
    {
     "data": {
      "text/html": [
       "<div>\n",
       "<style scoped>\n",
       "    .dataframe tbody tr th:only-of-type {\n",
       "        vertical-align: middle;\n",
       "    }\n",
       "\n",
       "    .dataframe tbody tr th {\n",
       "        vertical-align: top;\n",
       "    }\n",
       "\n",
       "    .dataframe thead th {\n",
       "        text-align: right;\n",
       "    }\n",
       "</style>\n",
       "<table border=\"1\" class=\"dataframe\">\n",
       "  <thead>\n",
       "    <tr style=\"text-align: right;\">\n",
       "      <th></th>\n",
       "      <th>Villes</th>\n",
       "      <th>Pays</th>\n",
       "      <th>Code Postal</th>\n",
       "      <th>Population</th>\n",
       "    </tr>\n",
       "  </thead>\n",
       "  <tbody>\n",
       "    <tr>\n",
       "      <th>1</th>\n",
       "      <td>Paris</td>\n",
       "      <td>NaN</td>\n",
       "      <td>NaN</td>\n",
       "      <td>2 161</td>\n",
       "    </tr>\n",
       "    <tr>\n",
       "      <th>2</th>\n",
       "      <td>London</td>\n",
       "      <td>NaN</td>\n",
       "      <td>NaN</td>\n",
       "      <td>8 982</td>\n",
       "    </tr>\n",
       "    <tr>\n",
       "      <th>3</th>\n",
       "      <td>Nevada</td>\n",
       "      <td>NaN</td>\n",
       "      <td>NaN</td>\n",
       "      <td>3 144</td>\n",
       "    </tr>\n",
       "    <tr>\n",
       "      <th>4</th>\n",
       "      <td>Marseille</td>\n",
       "      <td>NaN</td>\n",
       "      <td>NaN</td>\n",
       "      <td>0.861 635</td>\n",
       "    </tr>\n",
       "    <tr>\n",
       "      <th>5</th>\n",
       "      <td>New York</td>\n",
       "      <td>NaN</td>\n",
       "      <td>NaN</td>\n",
       "      <td>8 468</td>\n",
       "    </tr>\n",
       "    <tr>\n",
       "      <th>6</th>\n",
       "      <td>Chicago</td>\n",
       "      <td>NaN</td>\n",
       "      <td>NaN</td>\n",
       "      <td>2 697</td>\n",
       "    </tr>\n",
       "    <tr>\n",
       "      <th>7</th>\n",
       "      <td>Los angeles</td>\n",
       "      <td>NaN</td>\n",
       "      <td>NaN</td>\n",
       "      <td>3 849</td>\n",
       "    </tr>\n",
       "  </tbody>\n",
       "</table>\n",
       "</div>"
      ],
      "text/plain": [
       "        Villes Pays Code Postal Population\n",
       "1        Paris  NaN         NaN      2 161\n",
       "2       London  NaN         NaN      8 982\n",
       "3       Nevada  NaN         NaN      3 144\n",
       "4    Marseille  NaN         NaN  0.861 635\n",
       "5     New York  NaN         NaN      8 468\n",
       "6      Chicago  NaN         NaN      2 697\n",
       "7  Los angeles  NaN         NaN      3 849"
      ]
     },
     "execution_count": 5,
     "metadata": {},
     "output_type": "execute_result"
    }
   ],
   "source": [
    "population"
   ]
  },
  {
   "cell_type": "code",
   "execution_count": 6,
   "id": "c89b549a-006e-459c-b754-96962948ac70",
   "metadata": {},
   "outputs": [
    {
     "data": {
      "text/html": [
       "<div>\n",
       "<style scoped>\n",
       "    .dataframe tbody tr th:only-of-type {\n",
       "        vertical-align: middle;\n",
       "    }\n",
       "\n",
       "    .dataframe tbody tr th {\n",
       "        vertical-align: top;\n",
       "    }\n",
       "\n",
       "    .dataframe thead th {\n",
       "        text-align: right;\n",
       "    }\n",
       "</style>\n",
       "<table border=\"1\" class=\"dataframe\">\n",
       "  <thead>\n",
       "    <tr style=\"text-align: right;\">\n",
       "      <th></th>\n",
       "      <th>Villes</th>\n",
       "      <th>Pays</th>\n",
       "      <th>Code Postal</th>\n",
       "      <th>Population</th>\n",
       "    </tr>\n",
       "  </thead>\n",
       "  <tbody>\n",
       "    <tr>\n",
       "      <th>1</th>\n",
       "      <td>Paris</td>\n",
       "      <td>non précisé</td>\n",
       "      <td>NaN</td>\n",
       "      <td>2 161</td>\n",
       "    </tr>\n",
       "    <tr>\n",
       "      <th>2</th>\n",
       "      <td>London</td>\n",
       "      <td>non précisé</td>\n",
       "      <td>NaN</td>\n",
       "      <td>8 982</td>\n",
       "    </tr>\n",
       "    <tr>\n",
       "      <th>3</th>\n",
       "      <td>Nevada</td>\n",
       "      <td>non précisé</td>\n",
       "      <td>NaN</td>\n",
       "      <td>3 144</td>\n",
       "    </tr>\n",
       "    <tr>\n",
       "      <th>4</th>\n",
       "      <td>Marseille</td>\n",
       "      <td>non précisé</td>\n",
       "      <td>NaN</td>\n",
       "      <td>0.861 635</td>\n",
       "    </tr>\n",
       "    <tr>\n",
       "      <th>5</th>\n",
       "      <td>New York</td>\n",
       "      <td>non précisé</td>\n",
       "      <td>NaN</td>\n",
       "      <td>8 468</td>\n",
       "    </tr>\n",
       "    <tr>\n",
       "      <th>6</th>\n",
       "      <td>Chicago</td>\n",
       "      <td>non précisé</td>\n",
       "      <td>NaN</td>\n",
       "      <td>2 697</td>\n",
       "    </tr>\n",
       "    <tr>\n",
       "      <th>7</th>\n",
       "      <td>Los angeles</td>\n",
       "      <td>non précisé</td>\n",
       "      <td>NaN</td>\n",
       "      <td>3 849</td>\n",
       "    </tr>\n",
       "  </tbody>\n",
       "</table>\n",
       "</div>"
      ],
      "text/plain": [
       "        Villes         Pays Code Postal Population\n",
       "1        Paris  non précisé         NaN      2 161\n",
       "2       London  non précisé         NaN      8 982\n",
       "3       Nevada  non précisé         NaN      3 144\n",
       "4    Marseille  non précisé         NaN  0.861 635\n",
       "5     New York  non précisé         NaN      8 468\n",
       "6      Chicago  non précisé         NaN      2 697\n",
       "7  Los angeles  non précisé         NaN      3 849"
      ]
     },
     "execution_count": 6,
     "metadata": {},
     "output_type": "execute_result"
    }
   ],
   "source": [
    "values = {\"Pays\":'non précisé'}\n",
    "population.fillna(value=values, inplace = True)\n",
    "population"
   ]
  },
  {
   "cell_type": "markdown",
   "id": "194af11d-1c3f-48f2-aefe-fecfd8b3e0c2",
   "metadata": {},
   "source": [
    "Rename NaN Values in order to be more understanding for users"
   ]
  },
  {
   "cell_type": "code",
   "execution_count": 7,
   "id": "247ace40-8d1d-4844-8ce8-89b760836b2b",
   "metadata": {},
   "outputs": [
    {
     "data": {
      "text/html": [
       "<div>\n",
       "<style scoped>\n",
       "    .dataframe tbody tr th:only-of-type {\n",
       "        vertical-align: middle;\n",
       "    }\n",
       "\n",
       "    .dataframe tbody tr th {\n",
       "        vertical-align: top;\n",
       "    }\n",
       "\n",
       "    .dataframe thead th {\n",
       "        text-align: right;\n",
       "    }\n",
       "</style>\n",
       "<table border=\"1\" class=\"dataframe\">\n",
       "  <thead>\n",
       "    <tr style=\"text-align: right;\">\n",
       "      <th></th>\n",
       "      <th>Villes</th>\n",
       "      <th>Pays</th>\n",
       "      <th>Population</th>\n",
       "    </tr>\n",
       "  </thead>\n",
       "  <tbody>\n",
       "    <tr>\n",
       "      <th>1</th>\n",
       "      <td>Paris</td>\n",
       "      <td>non précisé</td>\n",
       "      <td>2 161</td>\n",
       "    </tr>\n",
       "    <tr>\n",
       "      <th>2</th>\n",
       "      <td>London</td>\n",
       "      <td>non précisé</td>\n",
       "      <td>8 982</td>\n",
       "    </tr>\n",
       "    <tr>\n",
       "      <th>3</th>\n",
       "      <td>Nevada</td>\n",
       "      <td>non précisé</td>\n",
       "      <td>3 144</td>\n",
       "    </tr>\n",
       "    <tr>\n",
       "      <th>4</th>\n",
       "      <td>Marseille</td>\n",
       "      <td>non précisé</td>\n",
       "      <td>0.861 635</td>\n",
       "    </tr>\n",
       "    <tr>\n",
       "      <th>5</th>\n",
       "      <td>New York</td>\n",
       "      <td>non précisé</td>\n",
       "      <td>8 468</td>\n",
       "    </tr>\n",
       "    <tr>\n",
       "      <th>6</th>\n",
       "      <td>Chicago</td>\n",
       "      <td>non précisé</td>\n",
       "      <td>2 697</td>\n",
       "    </tr>\n",
       "    <tr>\n",
       "      <th>7</th>\n",
       "      <td>Los angeles</td>\n",
       "      <td>non précisé</td>\n",
       "      <td>3 849</td>\n",
       "    </tr>\n",
       "  </tbody>\n",
       "</table>\n",
       "</div>"
      ],
      "text/plain": [
       "        Villes         Pays Population\n",
       "1        Paris  non précisé      2 161\n",
       "2       London  non précisé      8 982\n",
       "3       Nevada  non précisé      3 144\n",
       "4    Marseille  non précisé  0.861 635\n",
       "5     New York  non précisé      8 468\n",
       "6      Chicago  non précisé      2 697\n",
       "7  Los angeles  non précisé      3 849"
      ]
     },
     "execution_count": 7,
     "metadata": {},
     "output_type": "execute_result"
    }
   ],
   "source": [
    "population.dropna(axis=1)"
   ]
  },
  {
   "cell_type": "markdown",
   "id": "6ebd2819-b51d-436c-a7af-b5bcb0b79107",
   "metadata": {},
   "source": [
    "info array"
   ]
  },
  {
   "cell_type": "code",
   "execution_count": 8,
   "id": "3444e6a6-ea40-4c41-9900-569e1f9dc17e",
   "metadata": {},
   "outputs": [
    {
     "name": "stdout",
     "output_type": "stream",
     "text": [
      "(7,)\n",
      "1\n",
      "7\n",
      "object\n"
     ]
    }
   ],
   "source": [
    "print(population['Population'].shape)\n",
    "print(population['Population'].ndim)\n",
    "print(population['Population'].size)\n",
    "print(population['Population'].dtype)\n"
   ]
  },
  {
   "cell_type": "code",
   "execution_count": 9,
   "id": "56fc8af4-d5f9-484e-99fc-376e8b22303d",
   "metadata": {},
   "outputs": [
    {
     "data": {
      "text/plain": [
       "1        2 161\n",
       "2        8 982\n",
       "3        3 144\n",
       "4    0.861 635\n",
       "5        8 468\n",
       "6        2 697\n",
       "7        3 849\n",
       "Name: Population, dtype: object"
      ]
     },
     "execution_count": 9,
     "metadata": {},
     "output_type": "execute_result"
    }
   ],
   "source": [
    "population['Population']"
   ]
  },
  {
   "cell_type": "code",
   "execution_count": 10,
   "id": "f5c9b647-7cf4-4712-a981-9d7038a2e56a",
   "metadata": {},
   "outputs": [
    {
     "data": {
      "text/plain": [
       "1        2 161\n",
       "2        8 982\n",
       "3        3 144\n",
       "4    0.861 635\n",
       "5        8 468\n",
       "6        2 697\n",
       "7        3 849\n",
       "Name: Population, dtype: object"
      ]
     },
     "execution_count": 10,
     "metadata": {},
     "output_type": "execute_result"
    }
   ],
   "source": [
    "population['Population']"
   ]
  },
  {
   "cell_type": "markdown",
   "id": "455b22e6-87d4-4e8e-9d3c-f79e3a009618",
   "metadata": {},
   "source": [
    "Visualize data to have a global view and know how to clean them for treatment(next step)"
   ]
  }
 ],
 "metadata": {
  "kernelspec": {
   "display_name": "Python 3 (ipykernel)",
   "language": "python",
   "name": "python3"
  },
  "language_info": {
   "codemirror_mode": {
    "name": "ipython",
    "version": 3
   },
   "file_extension": ".py",
   "mimetype": "text/x-python",
   "name": "python",
   "nbconvert_exporter": "python",
   "pygments_lexer": "ipython3",
   "version": "3.10.12"
  }
 },
 "nbformat": 4,
 "nbformat_minor": 5
}
